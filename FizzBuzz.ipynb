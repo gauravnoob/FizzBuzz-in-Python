{
 "cells": [
  {
   "cell_type": "code",
   "execution_count": null,
   "metadata": {},
   "outputs": [],
   "source": [
    "#Function for FizzBuzz\n",
    "def fizz_buzz(value):\n",
    "    for _ in range(1,value+1):\n",
    "        if _%3 == 0 and _%5 == 0:\n",
    "            print(\"FizzBuzz\")\n",
    "        elif _%5 == 0:\n",
    "            print('Buzz')\n",
    "        elif _%3 == 0:\n",
    "            print('Fizz')\n",
    "        else : \n",
    "            print(_)\n",
    "    \n",
    "\n",
    "#taking user input and input should be interger\n",
    "a = int(input())\n",
    "\n",
    "#Function call\n",
    "fizz_buzz(a)"
   ]
  }
 ],
 "metadata": {
  "kernelspec": {
   "display_name": "Python 3",
   "language": "python",
   "name": "python3"
  },
  "language_info": {
   "codemirror_mode": {
    "name": "ipython",
    "version": 3
   },
   "file_extension": ".py",
   "mimetype": "text/x-python",
   "name": "python",
   "nbconvert_exporter": "python",
   "pygments_lexer": "ipython3",
   "version": "3.7.6"
  }
 },
 "nbformat": 4,
 "nbformat_minor": 4
}
